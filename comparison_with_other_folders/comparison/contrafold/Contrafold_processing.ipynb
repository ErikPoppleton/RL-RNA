{
 "cells": [
  {
   "cell_type": "code",
   "execution_count": 5,
   "metadata": {},
   "outputs": [],
   "source": [
    "from re import sub\n",
    "\n",
    "for ds in ['rfam', 'matthews']:\n",
    "    data = []\n",
    "    with open('contrafold_'+ds+'_raw.csv') as f:\n",
    "        all_lines = f.readlines()[1:]\n",
    "        for l in all_lines:\n",
    "            data.append(sub('.ct|.txt|>','',l))\n",
    "    with open('contrafold_'+ds+'.csv', 'w+') as f:\n",
    "        f.write(''.join(data))"
   ]
  },
  {
   "cell_type": "code",
   "execution_count": null,
   "metadata": {},
   "outputs": [],
   "source": []
  }
 ],
 "metadata": {
  "kernelspec": {
   "display_name": "Python 3",
   "language": "python",
   "name": "python3"
  },
  "language_info": {
   "codemirror_mode": {
    "name": "ipython",
    "version": 3
   },
   "file_extension": ".py",
   "mimetype": "text/x-python",
   "name": "python",
   "nbconvert_exporter": "python",
   "pygments_lexer": "ipython3",
   "version": "3.7.6"
  }
 },
 "nbformat": 4,
 "nbformat_minor": 4
}
