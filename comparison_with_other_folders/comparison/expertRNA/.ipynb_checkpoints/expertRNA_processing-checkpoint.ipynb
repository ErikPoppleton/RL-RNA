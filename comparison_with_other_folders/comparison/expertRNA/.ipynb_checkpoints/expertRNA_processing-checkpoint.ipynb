{
 "cells": [
  {
   "cell_type": "code",
   "execution_count": 6,
   "metadata": {},
   "outputs": [],
   "source": [
    "from re import sub\n",
    "\n",
    "for ds in ['rfam', 'smalltestcase']:\n",
    "    data = []\n",
    "    with open('Result_'+ds+'_NFE_4_branch_4_min_ENTRNA_Agave.csv_9_features_with_FE.csv') as f:\n",
    "        all_lines = f.readlines()[1::4]\n",
    "        for l in all_lines:\n",
    "            l = l.split(',')\n",
    "            data.append(sub('.ct|.txt','',l[1])+','+l[2]+','+l[5])\n",
    "    if ds == 'smalltestcase':\n",
    "        ds = 'matthews'\n",
    "    with open('expertRNA_'+ds+'.csv', 'w+') as f:\n",
    "        f.write('\\n'.join(data))"
   ]
  },
  {
   "cell_type": "code",
   "execution_count": null,
   "metadata": {},
   "outputs": [],
   "source": []
  }
 ],
 "metadata": {
  "kernelspec": {
   "display_name": "Python 3",
   "language": "python",
   "name": "python3"
  },
  "language_info": {
   "codemirror_mode": {
    "name": "ipython",
    "version": 3
   },
   "file_extension": ".py",
   "mimetype": "text/x-python",
   "name": "python",
   "nbconvert_exporter": "python",
   "pygments_lexer": "ipython3",
   "version": "3.7.6"
  }
 },
 "nbformat": 4,
 "nbformat_minor": 4
}
